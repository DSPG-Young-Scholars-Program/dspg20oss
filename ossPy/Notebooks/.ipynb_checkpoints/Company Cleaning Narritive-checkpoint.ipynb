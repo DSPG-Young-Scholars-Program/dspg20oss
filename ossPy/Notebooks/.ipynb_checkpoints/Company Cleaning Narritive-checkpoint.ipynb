{
 "cells": [
  {
   "cell_type": "markdown",
   "metadata": {},
   "source": [
    "Lets begin by importing the various packages we will be using for this notebook"
   ]
  },
  {
   "cell_type": "code",
   "execution_count": 2,
   "metadata": {},
   "outputs": [],
   "source": [
    "import os\n",
    "os.chdir('../')\n",
    "\n",
    "\n",
    "import ossPyFuncs\n",
    "import pandas as pd\n",
    "import wordcloud\n",
    "import re\n",
    "import matplotlib.pyplot as plt\n",
    "\n",
    "import numpy as np"
   ]
  },
  {
   "cell_type": "markdown",
   "metadata": {},
   "source": [
    "Although we can't directly view the raw data in this notebook, we can still get a sense of what it looks like in a broad sense.  Lets import the raw dataframe using an sql query and then look at some of the features of this data object.  We'll use a function from our custom python library (https://github.com/DSPG-Young-Scholars-Program/dspg20oss/tree/master/ossPy) to make this query"
   ]
  },
  {
   "cell_type": "code",
   "execution_count": 7,
   "metadata": {},
   "outputs": [
    {
     "name": "stdout",
     "output_type": "stream",
     "text": [
      "(2143407, 1)\n"
     ]
    }
   ],
   "source": [
    "#perform sql query to get company column\n",
    "postgreSql_selectQuery=\"SELECT company FROM gh.ctrs_raw ;\"\n",
    "inputRaw=ossPyFuncs.queryToPDTable(postgreSql_selectQuery)\n",
    "\n",
    "dataFrameShape=inputRaw.shape\n",
    "print(dataFrameShape)"
   ]
  },
  {
   "cell_type": "markdown",
   "metadata": {},
   "source": [
    "Here we see that the output of that query is a table with 2143407 rows and 1 column.  Those rows correspond to users, while the column corresponds to the disclosed professional affiliation.  Despite there being that many users though, not all of them actually listed this information.  Lets get a sense of how many that is."
   ]
  },
  {
   "cell_type": "code",
   "execution_count": 8,
   "metadata": {},
   "outputs": [
    {
     "name": "stdout",
     "output_type": "stream",
     "text": [
      "1720890\n"
     ]
    }
   ],
   "source": [
    "numberOfNull=np.count_nonzero(pd.isnull(inputRaw['company']))\n",
    "\n",
    "print(numberOfNull)"
   ]
  },
  {
   "cell_type": "markdown",
   "metadata": {},
   "source": [
    "So how many users does that mean have entered data?"
   ]
  },
  {
   "cell_type": "code",
   "execution_count": 9,
   "metadata": {},
   "outputs": [
    {
     "name": "stdout",
     "output_type": "stream",
     "text": [
      "422517\n"
     ]
    }
   ],
   "source": [
    "print(dataFrameShape[0]-numberOfNull)"
   ]
  },
  {
   "cell_type": "markdown",
   "metadata": {},
   "source": [
    "So, of these initial 2.1 million or so entries, only about 400 thousand have entries.  What do some of these company listings look like?  For example, what are the most frequently listed companies in this raw data?"
   ]
  },
  {
   "cell_type": "code",
   "execution_count": 11,
   "metadata": {},
   "outputs": [
    {
     "data": {
      "text/html": [
       "<div>\n",
       "<style scoped>\n",
       "    .dataframe tbody tr th:only-of-type {\n",
       "        vertical-align: middle;\n",
       "    }\n",
       "\n",
       "    .dataframe tbody tr th {\n",
       "        vertical-align: top;\n",
       "    }\n",
       "\n",
       "    .dataframe thead th {\n",
       "        text-align: right;\n",
       "    }\n",
       "</style>\n",
       "<table border=\"1\" class=\"dataframe\">\n",
       "  <thead>\n",
       "    <tr style=\"text-align: right;\">\n",
       "      <th></th>\n",
       "      <th>company</th>\n",
       "      <th>count</th>\n",
       "    </tr>\n",
       "  </thead>\n",
       "  <tbody>\n",
       "    <tr>\n",
       "      <td>0</td>\n",
       "      <td>Microsoft</td>\n",
       "      <td>4301</td>\n",
       "    </tr>\n",
       "    <tr>\n",
       "      <td>1</td>\n",
       "      <td>Google</td>\n",
       "      <td>2216</td>\n",
       "    </tr>\n",
       "    <tr>\n",
       "      <td>2</td>\n",
       "      <td>Red Hat</td>\n",
       "      <td>1594</td>\n",
       "    </tr>\n",
       "    <tr>\n",
       "      <td>3</td>\n",
       "      <td>IBM</td>\n",
       "      <td>1492</td>\n",
       "    </tr>\n",
       "    <tr>\n",
       "      <td>4</td>\n",
       "      <td>Freelancer</td>\n",
       "      <td>817</td>\n",
       "    </tr>\n",
       "    <tr>\n",
       "      <td>5</td>\n",
       "      <td>Freelance</td>\n",
       "      <td>795</td>\n",
       "    </tr>\n",
       "    <tr>\n",
       "      <td>6</td>\n",
       "      <td>@Microsoft</td>\n",
       "      <td>730</td>\n",
       "    </tr>\n",
       "    <tr>\n",
       "      <td>7</td>\n",
       "      <td>@Microsoft</td>\n",
       "      <td>674</td>\n",
       "    </tr>\n",
       "    <tr>\n",
       "      <td>8</td>\n",
       "      <td>Facebook</td>\n",
       "      <td>670</td>\n",
       "    </tr>\n",
       "    <tr>\n",
       "      <td>9</td>\n",
       "      <td>Intel</td>\n",
       "      <td>608</td>\n",
       "    </tr>\n",
       "    <tr>\n",
       "      <td>10</td>\n",
       "      <td>@google</td>\n",
       "      <td>538</td>\n",
       "    </tr>\n",
       "    <tr>\n",
       "      <td>11</td>\n",
       "      <td>Student</td>\n",
       "      <td>527</td>\n",
       "    </tr>\n",
       "    <tr>\n",
       "      <td>12</td>\n",
       "      <td>ThoughtWorks</td>\n",
       "      <td>524</td>\n",
       "    </tr>\n",
       "    <tr>\n",
       "      <td>13</td>\n",
       "      <td>Amazon</td>\n",
       "      <td>502</td>\n",
       "    </tr>\n",
       "    <tr>\n",
       "      <td>14</td>\n",
       "      <td>Carnegie Mellon University</td>\n",
       "      <td>471</td>\n",
       "    </tr>\n",
       "  </tbody>\n",
       "</table>\n",
       "</div>"
      ],
      "text/plain": [
       "                       company  count\n",
       "0                    Microsoft   4301\n",
       "1                       Google   2216\n",
       "2                      Red Hat   1594\n",
       "3                          IBM   1492\n",
       "4                   Freelancer    817\n",
       "5                    Freelance    795\n",
       "6                   @Microsoft    730\n",
       "7                  @Microsoft     674\n",
       "8                     Facebook    670\n",
       "9                        Intel    608\n",
       "10                    @google     538\n",
       "11                     Student    527\n",
       "12                ThoughtWorks    524\n",
       "13                      Amazon    502\n",
       "14  Carnegie Mellon University    471"
      ]
     },
     "execution_count": 11,
     "metadata": {},
     "output_type": "execute_result"
    }
   ],
   "source": [
    "#get the counts for the unique values\n",
    "tableUniqueFullNameCounts=inputRaw.iloc[:,0].value_counts()\n",
    "#convert that output to a proper table\n",
    "tableUniqueFullNameCounts=tableUniqueFullNameCounts.reset_index()\n",
    "\n",
    "#rename the columns\n",
    "tableUniqueFullNameCounts.rename(columns={\"company\":\"count\",\"index\":\"company\"},inplace=True)\n",
    "\n",
    "\n",
    "#get rid of empty value\n",
    "tableUniqueFullNameCounts=tableUniqueFullNameCounts[~tableUniqueFullNameCounts['company'].str.contains(\"^$\")]\n",
    "tableUniqueFullNameCounts=tableUniqueFullNameCounts.reset_index(drop=True)\n",
    "#display table\n",
    "tableUniqueFullNameCounts.head(n=15)"
   ]
  },
  {
   "cell_type": "markdown",
   "metadata": {},
   "source": [
    "Here we see a number of names that we might expect to see.  For example, tech companies like Microsoft, Google, and IBM as well as status listings like Freelancer and Stduent.\n",
    "\n",
    "However, from a \"data cleanliness\" perspective, we also notice that several of these listings are redundant.  For example, there appear to be at least two Google listings in just these most common fifteen listings, and three Microsoft listings!  This is just on the most common end of the listings, what about the least common end of things?"
   ]
  },
  {
   "cell_type": "code",
   "execution_count": 13,
   "metadata": {},
   "outputs": [
    {
     "data": {
      "text/html": [
       "<div>\n",
       "<style scoped>\n",
       "    .dataframe tbody tr th:only-of-type {\n",
       "        vertical-align: middle;\n",
       "    }\n",
       "\n",
       "    .dataframe tbody tr th {\n",
       "        vertical-align: top;\n",
       "    }\n",
       "\n",
       "    .dataframe thead th {\n",
       "        text-align: right;\n",
       "    }\n",
       "</style>\n",
       "<table border=\"1\" class=\"dataframe\">\n",
       "  <thead>\n",
       "    <tr style=\"text-align: right;\">\n",
       "      <th></th>\n",
       "      <th>company</th>\n",
       "      <th>count</th>\n",
       "    </tr>\n",
       "  </thead>\n",
       "  <tbody>\n",
       "    <tr>\n",
       "      <td>262035</td>\n",
       "      <td>@SolvdSoft</td>\n",
       "      <td>1</td>\n",
       "    </tr>\n",
       "    <tr>\n",
       "      <td>262036</td>\n",
       "      <td>Texas A&amp; M  university</td>\n",
       "      <td>1</td>\n",
       "    </tr>\n",
       "    <tr>\n",
       "      <td>262037</td>\n",
       "      <td>University of Virginia @UVA</td>\n",
       "      <td>1</td>\n",
       "    </tr>\n",
       "    <tr>\n",
       "      <td>262038</td>\n",
       "      <td>Transinet GmbH</td>\n",
       "      <td>1</td>\n",
       "    </tr>\n",
       "    <tr>\n",
       "      <td>262039</td>\n",
       "      <td>Eligo Energy, LLC</td>\n",
       "      <td>1</td>\n",
       "    </tr>\n",
       "    <tr>\n",
       "      <td>262040</td>\n",
       "      <td>Contessa Health</td>\n",
       "      <td>1</td>\n",
       "    </tr>\n",
       "    <tr>\n",
       "      <td>262041</td>\n",
       "      <td>Double Fine Productions</td>\n",
       "      <td>1</td>\n",
       "    </tr>\n",
       "    <tr>\n",
       "      <td>262042</td>\n",
       "      <td>@treyeckels</td>\n",
       "      <td>1</td>\n",
       "    </tr>\n",
       "    <tr>\n",
       "      <td>262043</td>\n",
       "      <td>DEK-Solutions</td>\n",
       "      <td>1</td>\n",
       "    </tr>\n",
       "    <tr>\n",
       "      <td>262044</td>\n",
       "      <td>Everlution</td>\n",
       "      <td>1</td>\n",
       "    </tr>\n",
       "    <tr>\n",
       "      <td>262045</td>\n",
       "      <td>@anivo</td>\n",
       "      <td>1</td>\n",
       "    </tr>\n",
       "    <tr>\n",
       "      <td>262046</td>\n",
       "      <td>@orbiting @republik</td>\n",
       "      <td>1</td>\n",
       "    </tr>\n",
       "    <tr>\n",
       "      <td>262047</td>\n",
       "      <td>TechPrimeLab Software Pvt. Ltd.</td>\n",
       "      <td>1</td>\n",
       "    </tr>\n",
       "    <tr>\n",
       "      <td>262048</td>\n",
       "      <td>we are orange</td>\n",
       "      <td>1</td>\n",
       "    </tr>\n",
       "    <tr>\n",
       "      <td>262049</td>\n",
       "      <td>Vuukle</td>\n",
       "      <td>1</td>\n",
       "    </tr>\n",
       "    <tr>\n",
       "      <td>262050</td>\n",
       "      <td>@mmz-srf</td>\n",
       "      <td>1</td>\n",
       "    </tr>\n",
       "    <tr>\n",
       "      <td>262051</td>\n",
       "      <td>@ecorithm</td>\n",
       "      <td>1</td>\n",
       "    </tr>\n",
       "    <tr>\n",
       "      <td>262052</td>\n",
       "      <td>Sisa-Tech Pty Ltd</td>\n",
       "      <td>1</td>\n",
       "    </tr>\n",
       "    <tr>\n",
       "      <td>262053</td>\n",
       "      <td>RLaurs</td>\n",
       "      <td>1</td>\n",
       "    </tr>\n",
       "    <tr>\n",
       "      <td>262054</td>\n",
       "      <td>@The-Rubbish-Ray-Project</td>\n",
       "      <td>1</td>\n",
       "    </tr>\n",
       "  </tbody>\n",
       "</table>\n",
       "</div>"
      ],
      "text/plain": [
       "                                company  count\n",
       "262035                      @SolvdSoft       1\n",
       "262036           Texas A& M  university      1\n",
       "262037      University of Virginia @UVA      1\n",
       "262038                   Transinet GmbH      1\n",
       "262039                Eligo Energy, LLC      1\n",
       "262040                  Contessa Health      1\n",
       "262041          Double Fine Productions      1\n",
       "262042                      @treyeckels      1\n",
       "262043                    DEK-Solutions      1\n",
       "262044                       Everlution      1\n",
       "262045                          @anivo       1\n",
       "262046             @orbiting @republik       1\n",
       "262047  TechPrimeLab Software Pvt. Ltd.      1\n",
       "262048                    we are orange      1\n",
       "262049                           Vuukle      1\n",
       "262050                        @mmz-srf       1\n",
       "262051                       @ecorithm       1\n",
       "262052                Sisa-Tech Pty Ltd      1\n",
       "262053                           RLaurs      1\n",
       "262054        @The-Rubbish-Ray-Project       1"
      ]
     },
     "execution_count": 13,
     "metadata": {},
     "output_type": "execute_result"
    }
   ],
   "source": [
    "#display table\n",
    "tableUniqueFullNameCounts.tail(n=20)"
   ]
  },
  {
   "cell_type": "markdown",
   "metadata": {},
   "source": [
    "Here we see a number of issues that we'll be needing to account for.  For example, listing 262036 features an apparent spelling error, in that there is no space between the A and & symbol.  Listing 262046 features two separate listings (using the @ symbol, no less), which we'll need to account for in our tabulations as well.  Finally, listings 262038, 262039, 262047, 262050, and 262052 all feature corporate entity abreviations.\n",
    "\n",
    "All of these issues would stand as a challenge as we try and assess how many individuals work at the same organizations and within the same sectors (in virtue of the organizations' situationing within the sector breakdown).  This is in additon to the issues with listings we saw in the top most requent listings we saw earlier as well.  As such, there are a number of things we'll have to take care of as we preprocess this data.\n",
    "\n",
    "What does the data look *as is* though, before any changes have been made?"
   ]
  },
  {
   "cell_type": "code",
   "execution_count": 15,
   "metadata": {},
   "outputs": [
    {
     "data": {
      "text/plain": [
       "<Figure size 3200x6400 with 0 Axes>"
      ]
     },
     "execution_count": 15,
     "metadata": {},
     "output_type": "execute_result"
    },
    {
     "data": {
      "image/png": "[encoded data removed]",
      "text/plain": [
       "<Figure size 360x360 with 1 Axes>"
      ]
     },
     "metadata": {
      "needs_background": "light"
     },
     "output_type": "display_data"
    },
    {
     "data": {
      "text/plain": [
       "<Figure size 3200x6400 with 0 Axes>"
      ]
     },
     "metadata": {},
     "output_type": "display_data"
    }
   ],
   "source": [
    "companyCounts=tableUniqueFullNameCounts['count']\n",
    "\n",
    "#establish the binvals\n",
    "binVals=np.asarray([0,1,5,10,20,50,100,200,np.max(companyCounts)])\n",
    "\n",
    "#iterate to sum the number of employees meeting the criterion\n",
    "binSum=np.zeros([len(binVals)-1,1])\n",
    "for iBins in range(len(binVals)-1):\n",
    "    binSum[iBins]=sum(companyCounts[np.logical_and(companyCounts>binVals[iBins],companyCounts<=binVals[iBins+1])])\n",
    "\n",
    "#import plotting package\n",
    "import seaborn as sns\n",
    "#set the name vector    \n",
    "binNames=['1 ','2-5 ','6-10 ','11-20 ','21-50 ','51-100 ','101-200 ', '>=201']\n",
    "#set the axes labels\n",
    "workplaceSizeTable=pd.DataFrame(columns=[\"same workplace\",\"Number of Persons\"])\n",
    "workplaceSizeTable['Number of Persons']=np.squeeze(binSum)\n",
    "workplaceSizeTable['Same workplace listing']=np.squeeze(binNames)\n",
    "\n",
    "#plot the output\n",
    "sns.catplot(data=workplaceSizeTable, kind=\"bar\", x='same workplace',y='Number of Persons', palette='Spectral');\n",
    "plt.figure(figsize=(16,32),dpi=200)"
   ]
  },
  {
   "cell_type": "markdown",
   "metadata": {},
   "source": [
    "Here we have a plot where there are various bin ranges corresponding to the number of other people who have *exactly* the same worplace affiliation listed on the X axis, and the number of people meeting that criteria on the Y axis.  Thus, to be included in the count of persons in the >=201 column/bin, the listing that the user has entered would need to be found listed by at least 201 other people.  This gives us a very rough sense of the overlap in these raw, and unchanged listings.  \n",
    "\n",
    "Our task here is twofold:\n",
    "\n",
    "(1) Clean the data such that abberant features (e.g. capitalization, white space, legal entity listing, etc.) don't serve as an impediment to assessing how many people are affiliated with a particular organization\n",
    "\n",
    "and\n",
    "\n",
    "(2) To come up with a better measure that can accomidate the \"messiness\" associated with multiple listings in this field.\n",
    "\n",
    "Before we do any of this though, lets use a word cloud to get a feel for the relative frequencies of unique company listings in this data."
   ]
  },
  {
   "cell_type": "code",
   "execution_count": 17,
   "metadata": {},
   "outputs": [],
   "source": [
    "import wordcloud\n",
    "#replace interior spaces and periods (which the wordcloud splits at)\n",
    "spacesReplaced=inputRaw['company'].str.replace(' ','_')\n",
    "periodsReplaced=spacesReplaced.str.replace('\\.','_')\n",
    "\n",
    "#turn that output into a long string\n",
    "longString=periodsReplaced.str.cat(sep=' ')\n",
    "\n",
    "#generate a wordcloud and convert it to svg\n",
    "outcloud=wordcloud.WordCloud(width=2000, height=1000, max_words=2000).generate(longString)\n",
    "svgCloud=outcloud.to_svg()\n",
    "plt.show()"
   ]
  },
  {
   "cell_type": "code",
   "execution_count": null,
   "metadata": {},
   "outputs": [],
   "source": []
  }
 ],
 "metadata": {
  "kernelspec": {
   "display_name": "Python 3.7",
   "language": "python",
   "name": "python37"
  },
  "language_info": {
   "codemirror_mode": {
    "name": "ipython",
    "version": 3
   },
   "file_extension": ".py",
   "mimetype": "text/x-python",
   "name": "python",
   "nbconvert_exporter": "python",
   "pygments_lexer": "ipython3",
   "version": "3.7.4"
  }
 },
 "nbformat": 4,
 "nbformat_minor": 2
}
