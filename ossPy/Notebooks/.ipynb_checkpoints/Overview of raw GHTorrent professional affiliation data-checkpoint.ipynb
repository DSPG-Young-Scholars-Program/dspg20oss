{
 "cells": [
  {
   "cell_type": "markdown",
   "metadata": {},
   "source": [
    "In our Open Source Software project, [name goes here], we are fortuate enough to have access to the data contained within the GHtorrent resource--specifically for those individuals who have made contributions to open source projects.  Lets begin by taking a look at this data in its raw form.\n",
    "\n",
    "We'll begin by performing an sql query and looking at what we get back."
   ]
  },
  {
   "cell_type": "code",
   "execution_count": 1,
   "metadata": {},
   "outputs": [
    {
     "name": "stdout",
     "output_type": "stream",
     "text": [
      "2143407\n"
     ]
    }
   ],
   "source": [
    "import os\n",
    "os.chdir('../')\n",
    "import ossPyFuncs\n",
    "\n",
    "#formulate sql query\n",
    "postgreSql_selectQuery=\"SELECT login, company FROM gh.ctrs_raw ;\"\n",
    "#perform query\n",
    "inputRaw=ossPyFuncs.queryToPDTable(postgreSql_selectQuery)\n",
    "\n",
    "#print number of entries (rows) in database\n",
    "print(len(inputRaw.index))"
   ]
  },
  {
   "cell_type": "markdown",
   "metadata": {},
   "source": [
    "As you can see we have more than two million entries in this database, each corresponding to a username on github.  However, given that we are interested in linking individuals with productive sectors (i.e. business, academic, household, governmental, etc.) we need to take a closer look at the ['company'] column in order to assess the viability of using it as the bridge from individual user to sector label.  One key feature is the *sparsity* of the data, that is, the \"emptyness\" of the data."
   ]
  },
  {
   "cell_type": "code",
   "execution_count": 2,
   "metadata": {},
   "outputs": [
    {
     "name": "stdout",
     "output_type": "stream",
     "text": [
      "1720890\n",
      "80.2875982023013\n"
     ]
    }
   ],
   "source": [
    "import numpy as np\n",
    "import pandas as pd\n",
    "\n",
    "#count the number of null values in the company column\n",
    "numberOfNull=np.count_nonzero(pd.isnull(inputRaw['company']))\n",
    "\n",
    "print(numberOfNull)\n",
    "\n",
    "#compute the percentage this represents\n",
    "print(np.divide(numberOfNull,len(inputRaw.index))*100)"
   ]
  },
  {
   "cell_type": "markdown",
   "metadata": {},
   "source": [
    "Thus we see that slightly more than 80% of users have not entered anything into the company column.  This doesn't bode particularly well for our attempt to begin mapping sectors, but let's investigate what we do have."
   ]
  },
  {
   "cell_type": "code",
   "execution_count": 3,
   "metadata": {},
   "outputs": [
    {
     "data": {
      "text/html": [
       "<div>\n",
       "<style scoped>\n",
       "    .dataframe tbody tr th:only-of-type {\n",
       "        vertical-align: middle;\n",
       "    }\n",
       "\n",
       "    .dataframe tbody tr th {\n",
       "        vertical-align: top;\n",
       "    }\n",
       "\n",
       "    .dataframe thead th {\n",
       "        text-align: right;\n",
       "    }\n",
       "</style>\n",
       "<table border=\"1\" class=\"dataframe\">\n",
       "  <thead>\n",
       "    <tr style=\"text-align: right;\">\n",
       "      <th></th>\n",
       "      <th>company</th>\n",
       "      <th>count</th>\n",
       "    </tr>\n",
       "  </thead>\n",
       "  <tbody>\n",
       "    <tr>\n",
       "      <td>0</td>\n",
       "      <td>Microsoft</td>\n",
       "      <td>4301</td>\n",
       "    </tr>\n",
       "    <tr>\n",
       "      <td>1</td>\n",
       "      <td></td>\n",
       "      <td>3650</td>\n",
       "    </tr>\n",
       "    <tr>\n",
       "      <td>2</td>\n",
       "      <td>Google</td>\n",
       "      <td>2216</td>\n",
       "    </tr>\n",
       "    <tr>\n",
       "      <td>3</td>\n",
       "      <td>Red Hat</td>\n",
       "      <td>1594</td>\n",
       "    </tr>\n",
       "    <tr>\n",
       "      <td>4</td>\n",
       "      <td>IBM</td>\n",
       "      <td>1492</td>\n",
       "    </tr>\n",
       "    <tr>\n",
       "      <td>5</td>\n",
       "      <td>Freelancer</td>\n",
       "      <td>817</td>\n",
       "    </tr>\n",
       "    <tr>\n",
       "      <td>6</td>\n",
       "      <td>Freelance</td>\n",
       "      <td>795</td>\n",
       "    </tr>\n",
       "    <tr>\n",
       "      <td>7</td>\n",
       "      <td>@Microsoft</td>\n",
       "      <td>730</td>\n",
       "    </tr>\n",
       "    <tr>\n",
       "      <td>8</td>\n",
       "      <td>@Microsoft</td>\n",
       "      <td>674</td>\n",
       "    </tr>\n",
       "    <tr>\n",
       "      <td>9</td>\n",
       "      <td>Facebook</td>\n",
       "      <td>670</td>\n",
       "    </tr>\n",
       "    <tr>\n",
       "      <td>10</td>\n",
       "      <td>Intel</td>\n",
       "      <td>608</td>\n",
       "    </tr>\n",
       "    <tr>\n",
       "      <td>11</td>\n",
       "      <td>@google</td>\n",
       "      <td>538</td>\n",
       "    </tr>\n",
       "    <tr>\n",
       "      <td>12</td>\n",
       "      <td>Student</td>\n",
       "      <td>527</td>\n",
       "    </tr>\n",
       "    <tr>\n",
       "      <td>13</td>\n",
       "      <td>ThoughtWorks</td>\n",
       "      <td>524</td>\n",
       "    </tr>\n",
       "    <tr>\n",
       "      <td>14</td>\n",
       "      <td>Amazon</td>\n",
       "      <td>502</td>\n",
       "    </tr>\n",
       "    <tr>\n",
       "      <td>15</td>\n",
       "      <td>Carnegie Mellon University</td>\n",
       "      <td>471</td>\n",
       "    </tr>\n",
       "    <tr>\n",
       "      <td>16</td>\n",
       "      <td>Tencent</td>\n",
       "      <td>457</td>\n",
       "    </tr>\n",
       "    <tr>\n",
       "      <td>17</td>\n",
       "      <td>None</td>\n",
       "      <td>437</td>\n",
       "    </tr>\n",
       "    <tr>\n",
       "      <td>18</td>\n",
       "      <td>University of Washington</td>\n",
       "      <td>392</td>\n",
       "    </tr>\n",
       "    <tr>\n",
       "      <td>19</td>\n",
       "      <td>@google</td>\n",
       "      <td>387</td>\n",
       "    </tr>\n",
       "  </tbody>\n",
       "</table>\n",
       "</div>"
      ],
      "text/plain": [
       "                       company  count\n",
       "0                    Microsoft   4301\n",
       "1                                3650\n",
       "2                       Google   2216\n",
       "3                      Red Hat   1594\n",
       "4                          IBM   1492\n",
       "5                   Freelancer    817\n",
       "6                    Freelance    795\n",
       "7                   @Microsoft    730\n",
       "8                  @Microsoft     674\n",
       "9                     Facebook    670\n",
       "10                       Intel    608\n",
       "11                    @google     538\n",
       "12                     Student    527\n",
       "13                ThoughtWorks    524\n",
       "14                      Amazon    502\n",
       "15  Carnegie Mellon University    471\n",
       "16                     Tencent    457\n",
       "17                        None    437\n",
       "18    University of Washington    392\n",
       "19                     @google    387"
      ]
     },
     "execution_count": 3,
     "metadata": {},
     "output_type": "execute_result"
    }
   ],
   "source": [
    "companyColumn=pd.DataFrame(inputRaw['company'])\n",
    "\n",
    "#get the counts for the unique values\n",
    "tableUniqueFullNameCounts=companyColumn['company'].value_counts()\n",
    "#convert that output to a proper table\n",
    "tableUniqueFullNameCounts=tableUniqueFullNameCounts.reset_index()\n",
    "\n",
    "#rename the columns\n",
    "tableUniqueFullNameCounts.rename(columns={\"company\":\"count\",\"index\":\"company\"},inplace=True)\n",
    "\n",
    "#display table\n",
    "tableUniqueFullNameCounts.head(n=20)"
   ]
  },
  {
   "cell_type": "markdown",
   "metadata": {},
   "source": [
    "Here we see a number of names that we might expect to see. For example, tech companies like Microsoft, Google, and IBM as well as status listings like Freelancer and Stduent.\n",
    "\n",
    "However, from a \"data cleanliness\" perspective, we also notice that several of these listings are redundant. For example, there appear to be at least two Google listings in just these most common fifteen listings, and three Microsoft listings! This may also prove to be a challenge when we attempt to assign sectors using explicit lists of companies.  In such cases where the strings dont *exactly* match, we'll likely run in to trouble.\n",
    "\n",
    "Lets go ahead and try that now with the list for the household/individual category.  We'll begin by loading up our criteria list and taking a look at it."
   ]
  },
  {
   "cell_type": "code",
   "execution_count": 4,
   "metadata": {},
   "outputs": [
    {
     "data": {
      "text/html": [
       "<div>\n",
       "<style scoped>\n",
       "    .dataframe tbody tr th:only-of-type {\n",
       "        vertical-align: middle;\n",
       "    }\n",
       "\n",
       "    .dataframe tbody tr th {\n",
       "        vertical-align: top;\n",
       "    }\n",
       "\n",
       "    .dataframe thead th {\n",
       "        text-align: right;\n",
       "    }\n",
       "</style>\n",
       "<table border=\"1\" class=\"dataframe\">\n",
       "  <thead>\n",
       "    <tr style=\"text-align: right;\">\n",
       "      <th></th>\n",
       "      <th>0</th>\n",
       "    </tr>\n",
       "  </thead>\n",
       "  <tbody>\n",
       "    <tr>\n",
       "      <td>0</td>\n",
       "      <td>(?i)^self$</td>\n",
       "    </tr>\n",
       "    <tr>\n",
       "      <td>1</td>\n",
       "      <td>(?i)^personal$</td>\n",
       "    </tr>\n",
       "    <tr>\n",
       "      <td>2</td>\n",
       "      <td>(?i)^home$</td>\n",
       "    </tr>\n",
       "    <tr>\n",
       "      <td>3</td>\n",
       "      <td>(?i)^private$</td>\n",
       "    </tr>\n",
       "    <tr>\n",
       "      <td>4</td>\n",
       "      <td>(?i)^individual$</td>\n",
       "    </tr>\n",
       "    <tr>\n",
       "      <td>5</td>\n",
       "      <td>(?i)^myself$</td>\n",
       "    </tr>\n",
       "    <tr>\n",
       "      <td>6</td>\n",
       "      <td>(?i)^me$</td>\n",
       "    </tr>\n",
       "    <tr>\n",
       "      <td>7</td>\n",
       "      <td>(?i)^house$</td>\n",
       "    </tr>\n",
       "    <tr>\n",
       "      <td>8</td>\n",
       "      <td>(?i)^independent$</td>\n",
       "    </tr>\n",
       "    <tr>\n",
       "      <td>9</td>\n",
       "      <td>(?i)independent contractor</td>\n",
       "    </tr>\n",
       "    <tr>\n",
       "      <td>10</td>\n",
       "      <td>(?i)^consultant$</td>\n",
       "    </tr>\n",
       "    <tr>\n",
       "      <td>11</td>\n",
       "      <td>(?i)freelancer</td>\n",
       "    </tr>\n",
       "    <tr>\n",
       "      <td>12</td>\n",
       "      <td>(?i)freelance</td>\n",
       "    </tr>\n",
       "    <tr>\n",
       "      <td>13</td>\n",
       "      <td>(?i)freelancing</td>\n",
       "    </tr>\n",
       "    <tr>\n",
       "      <td>14</td>\n",
       "      <td>(?i)self-employed</td>\n",
       "    </tr>\n",
       "    <tr>\n",
       "      <td>15</td>\n",
       "      <td>(?i)my home</td>\n",
       "    </tr>\n",
       "    <tr>\n",
       "      <td>16</td>\n",
       "      <td>(?i)me, myself</td>\n",
       "    </tr>\n",
       "    <tr>\n",
       "      <td>17</td>\n",
       "      <td>(?i)me myself</td>\n",
       "    </tr>\n",
       "    <tr>\n",
       "      <td>18</td>\n",
       "      <td>(?i)household</td>\n",
       "    </tr>\n",
       "    <tr>\n",
       "      <td>19</td>\n",
       "      <td>(?i)my house</td>\n",
       "    </tr>\n",
       "  </tbody>\n",
       "</table>\n",
       "</div>"
      ],
      "text/plain": [
       "                             0\n",
       "0                   (?i)^self$\n",
       "1               (?i)^personal$\n",
       "2                   (?i)^home$\n",
       "3                (?i)^private$\n",
       "4             (?i)^individual$\n",
       "5                 (?i)^myself$\n",
       "6                     (?i)^me$\n",
       "7                  (?i)^house$\n",
       "8            (?i)^independent$\n",
       "9   (?i)independent contractor\n",
       "10            (?i)^consultant$\n",
       "11              (?i)freelancer\n",
       "12               (?i)freelance\n",
       "13             (?i)freelancing\n",
       "14           (?i)self-employed\n",
       "15                 (?i)my home\n",
       "16              (?i)me, myself\n",
       "17               (?i)me myself\n",
       "18               (?i)household\n",
       "19                (?i)my house"
      ]
     },
     "execution_count": 4,
     "metadata": {},
     "output_type": "execute_result"
    }
   ],
   "source": [
    "#get path to local github directory for the ossPy function set, use that as a marker to find other files\n",
    "currentDir=os.path.dirname('ossPyFuncs.py')\n",
    "#read in the file\n",
    "householdTermList=pd.read_csv(os.path.join(currentDir,'keyFiles/individualKeys.csv'),quotechar=\"'\",header=None)\n",
    "#look at some of the items  \n",
    "householdTermList.head(20)"
   ]
  },
  {
   "cell_type": "markdown",
   "metadata": {},
   "source": [
    "We see that these are all sql queries for strings which are (we assume) associated with individuals who are engaging in home innovation with open source.  Lets see how many of the individuals from the GHTorrent database this reflects."
   ]
  },
  {
   "cell_type": "code",
   "execution_count": 5,
   "metadata": {},
   "outputs": [
    {
     "name": "stderr",
     "output_type": "stream",
     "text": [
      "/apps/software/standard/core/anaconda/2019.10-py3.7/lib/python3.7/site-packages/pandas/core/indexing.py:205: SettingWithCopyWarning: \n",
      "A value is trying to be set on a copy of a slice from a DataFrame\n",
      "\n",
      "See the caveats in the documentation: http://pandas.pydata.org/pandas-docs/stable/user_guide/indexing.html#returning-a-view-versus-a-copy\n",
      "  self._setitem_with_indexer(indexer, value)\n"
     ]
    },
    {
     "name": "stdout",
     "output_type": "stream",
     "text": [
      "59 household innovators found\n"
     ]
    },
    {
     "data": {
      "text/plain": [
       "Freelancer                                   1\n",
       "@Independent-Tech-Writers                    1\n",
       "@haipit  @TwitchYrslf @DrTeamRocks @drmvc    1\n",
       "Blue IT Marketing                            1\n",
       "Freelance Astrophysicist                     1\n",
       "DGI - INPE                                   1\n",
       "@foundersandcoders                           1\n",
       "Laravel Freelancer                           1\n",
       "Name: company, dtype: int64"
      ]
     },
     "execution_count": 5,
     "metadata": {},
     "output_type": "execute_result"
    }
   ],
   "source": [
    "#iteratively apply the list as a string search, and mark true where a match is found\n",
    "householdOutColumn=ossPyFuncs.addBooleanColumnFromCriteria(inputRaw,householdTermList,'household')\n",
    "\n",
    "print(str(np.count_nonzero(householdOutColumn['household'])) + ' household innovators found')\n",
    "\n",
    "subsetHouseholdUsers=householdOutColumn[householdOutColumn['household']]\n",
    "subsetHouseholdUsersCountDF=subsetHouseholdUsers['company'].value_counts()\n",
    "subsetHouseholdUsersCountDF.head(20)"
   ]
  },
  {
   "cell_type": "code",
   "execution_count": null,
   "metadata": {},
   "outputs": [],
   "source": []
  },
  {
   "cell_type": "code",
   "execution_count": 6,
   "metadata": {},
   "outputs": [],
   "source": [
    "#formulate sql query\n",
    "postgreSql_selectQuery=\"SELECT institution FROM hipolabs.universities ;\"\n",
    "#perform query\n",
    "universitiesList=ossPyFuncs.queryToPDTable(postgreSql_selectQuery)"
   ]
  },
  {
   "cell_type": "code",
   "execution_count": null,
   "metadata": {},
   "outputs": [],
   "source": []
  }
 ],
 "metadata": {
  "kernelspec": {
   "display_name": "Python 3.7",
   "language": "python",
   "name": "python37"
  },
  "language_info": {
   "codemirror_mode": {
    "name": "ipython",
    "version": 3
   },
   "file_extension": ".py",
   "mimetype": "text/x-python",
   "name": "python",
   "nbconvert_exporter": "python",
   "pygments_lexer": "ipython3",
   "version": "3.7.4"
  }
 },
 "nbformat": 4,
 "nbformat_minor": 2
}
