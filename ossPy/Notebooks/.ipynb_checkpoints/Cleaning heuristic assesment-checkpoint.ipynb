{
 "cells": [
  {
   "cell_type": "markdown",
   "metadata": {},
   "source": [
    "In previous chapters we (1) assessed our ability to map the raw GHTorrent data on to sectors using some given lists [see chapter \"Overview of raw GHTorrent professional affiliation data.ipynb\"] and (2) looked at the data itself and conisidered/implemented some cleaning heuristics [see chapters \"Difflib demo.ipynb\" and \"Company Cleaning Narritive.ipynb\"].  Now that we've done all this work, we actually need to see if these strategies have accomplished anything.  Ideally, what we have been doing is removing the \"noise\" from our data such that the entires in the raw data represent a more \"unified\" expression of the same affilliations, and thus better map on to the target entity lists.  The result of this would be a greater number of entries being mapped to each sector.  Alternatively, another method for mapping more entries to those sectors would be to improve/augment our per-sector lists of entities.  We'll set that option aside for now and proceed by evaluating the results of our cleaning efforts using largely the same approach as we did in the \"raw overview\" chapter.\n",
    "\n",
    "This time we begin by loading the cleaned set,rather than pulling from the database"
   ]
  },
  {
   "cell_type": "code",
   "execution_count": 6,
   "metadata": {},
   "outputs": [
    {
     "data": {
      "text/html": [
       "<div>\n",
       "<style scoped>\n",
       "    .dataframe tbody tr th:only-of-type {\n",
       "        vertical-align: middle;\n",
       "    }\n",
       "\n",
       "    .dataframe tbody tr th {\n",
       "        vertical-align: top;\n",
       "    }\n",
       "\n",
       "    .dataframe thead th {\n",
       "        text-align: right;\n",
       "    }\n",
       "</style>\n",
       "<table border=\"1\" class=\"dataframe\">\n",
       "  <thead>\n",
       "    <tr style=\"text-align: right;\">\n",
       "      <th></th>\n",
       "      <th>Unnamed: 0</th>\n",
       "      <th>company</th>\n",
       "    </tr>\n",
       "  </thead>\n",
       "  <tbody>\n",
       "    <tr>\n",
       "      <td>0</td>\n",
       "      <td>0</td>\n",
       "      <td>nearform</td>\n",
       "    </tr>\n",
       "    <tr>\n",
       "      <td>1</td>\n",
       "      <td>2</td>\n",
       "      <td>answers</td>\n",
       "    </tr>\n",
       "    <tr>\n",
       "      <td>2</td>\n",
       "      <td>3</td>\n",
       "      <td>mbari</td>\n",
       "    </tr>\n",
       "    <tr>\n",
       "      <td>3</td>\n",
       "      <td>4</td>\n",
       "      <td>scality</td>\n",
       "    </tr>\n",
       "    <tr>\n",
       "      <td>4</td>\n",
       "      <td>5</td>\n",
       "      <td>crom microsystems</td>\n",
       "    </tr>\n",
       "    <tr>\n",
       "      <td>5</td>\n",
       "      <td>10</td>\n",
       "      <td>oohology</td>\n",
       "    </tr>\n",
       "    <tr>\n",
       "      <td>6</td>\n",
       "      <td>11</td>\n",
       "      <td>apple</td>\n",
       "    </tr>\n",
       "    <tr>\n",
       "      <td>7</td>\n",
       "      <td>12</td>\n",
       "      <td>object rocket at rackspace</td>\n",
       "    </tr>\n",
       "    <tr>\n",
       "      <td>8</td>\n",
       "      <td>13</td>\n",
       "      <td>rackspace hosting</td>\n",
       "    </tr>\n",
       "    <tr>\n",
       "      <td>9</td>\n",
       "      <td>14</td>\n",
       "      <td>thinkphp</td>\n",
       "    </tr>\n",
       "    <tr>\n",
       "      <td>10</td>\n",
       "      <td>17</td>\n",
       "      <td>reaktor</td>\n",
       "    </tr>\n",
       "    <tr>\n",
       "      <td>11</td>\n",
       "      <td>18</td>\n",
       "      <td>arkency</td>\n",
       "    </tr>\n",
       "    <tr>\n",
       "      <td>12</td>\n",
       "      <td>22</td>\n",
       "      <td>juliand digital</td>\n",
       "    </tr>\n",
       "    <tr>\n",
       "      <td>13</td>\n",
       "      <td>23</td>\n",
       "      <td>primerai</td>\n",
       "    </tr>\n",
       "    <tr>\n",
       "      <td>14</td>\n",
       "      <td>25</td>\n",
       "      <td>karlsruhe institute of technology</td>\n",
       "    </tr>\n",
       "    <tr>\n",
       "      <td>15</td>\n",
       "      <td>27</td>\n",
       "      <td>freelance</td>\n",
       "    </tr>\n",
       "    <tr>\n",
       "      <td>16</td>\n",
       "      <td>28</td>\n",
       "      <td>inextensodigital</td>\n",
       "    </tr>\n",
       "    <tr>\n",
       "      <td>17</td>\n",
       "      <td>29</td>\n",
       "      <td>bakkenbaeck</td>\n",
       "    </tr>\n",
       "    <tr>\n",
       "      <td>18</td>\n",
       "      <td>30</td>\n",
       "      <td>google</td>\n",
       "    </tr>\n",
       "    <tr>\n",
       "      <td>19</td>\n",
       "      <td>32</td>\n",
       "      <td>github</td>\n",
       "    </tr>\n",
       "  </tbody>\n",
       "</table>\n",
       "</div>"
      ],
      "text/plain": [
       "    Unnamed: 0                            company\n",
       "0            0                           nearform\n",
       "1            2                            answers\n",
       "2            3                              mbari\n",
       "3            4                            scality\n",
       "4            5                  crom microsystems\n",
       "5           10                           oohology\n",
       "6           11                              apple\n",
       "7           12         object rocket at rackspace\n",
       "8           13                  rackspace hosting\n",
       "9           14                           thinkphp\n",
       "10          17                            reaktor\n",
       "11          18                            arkency\n",
       "12          22                    juliand digital\n",
       "13          23                           primerai\n",
       "14          25  karlsruhe institute of technology\n",
       "15          27                          freelance\n",
       "16          28                   inextensodigital\n",
       "17          29                        bakkenbaeck\n",
       "18          30                             google\n",
       "19          32                             github"
      ]
     },
     "execution_count": 6,
     "metadata": {},
     "output_type": "execute_result"
    }
   ],
   "source": [
    "import os\n",
    "#os.chdir('../')\n",
    "import ossPyFuncs\n",
    "import pandas as pd\n",
    "\n",
    "currentDir=os.path.dirname('ossPyFuncs.py')\n",
    "#read in the file\n",
    "cleanedInput=pd.read_csv(os.path.join(currentDir,'PackageOuts/rawCleanNoNA.csv'))\n",
    "companyColumn=pd.DataFrame(cleanedInput['company'])\n",
    "companyColumn.head(20)"
   ]
  },
  {
   "cell_type": "markdown",
   "metadata": {},
   "source": [
    "Thus we see that slightly more than 80% of users have not entered anything into the company column.  This doesn't bode particularly well for our attempt to begin mapping sectors, but let's investigate what we do have."
   ]
  },
  {
   "cell_type": "markdown",
   "metadata": {},
   "source": [
    "Lets begin  with the list for the household/individual category.  We'll begin by loading up our criteria list and taking a look at it."
   ]
  },
  {
   "cell_type": "code",
   "execution_count": 9,
   "metadata": {},
   "outputs": [
    {
     "data": {
      "text/html": [
       "<div>\n",
       "<style scoped>\n",
       "    .dataframe tbody tr th:only-of-type {\n",
       "        vertical-align: middle;\n",
       "    }\n",
       "\n",
       "    .dataframe tbody tr th {\n",
       "        vertical-align: top;\n",
       "    }\n",
       "\n",
       "    .dataframe thead th {\n",
       "        text-align: right;\n",
       "    }\n",
       "</style>\n",
       "<table border=\"1\" class=\"dataframe\">\n",
       "  <thead>\n",
       "    <tr style=\"text-align: right;\">\n",
       "      <th></th>\n",
       "      <th>0</th>\n",
       "    </tr>\n",
       "  </thead>\n",
       "  <tbody>\n",
       "    <tr>\n",
       "      <td>0</td>\n",
       "      <td>(?i)^self$</td>\n",
       "    </tr>\n",
       "    <tr>\n",
       "      <td>1</td>\n",
       "      <td>(?i)^personal$</td>\n",
       "    </tr>\n",
       "    <tr>\n",
       "      <td>2</td>\n",
       "      <td>(?i)^home$</td>\n",
       "    </tr>\n",
       "    <tr>\n",
       "      <td>3</td>\n",
       "      <td>(?i)^private$</td>\n",
       "    </tr>\n",
       "    <tr>\n",
       "      <td>4</td>\n",
       "      <td>(?i)^individual$</td>\n",
       "    </tr>\n",
       "    <tr>\n",
       "      <td>5</td>\n",
       "      <td>(?i)^myself$</td>\n",
       "    </tr>\n",
       "    <tr>\n",
       "      <td>6</td>\n",
       "      <td>(?i)^me$</td>\n",
       "    </tr>\n",
       "    <tr>\n",
       "      <td>7</td>\n",
       "      <td>(?i)^house$</td>\n",
       "    </tr>\n",
       "    <tr>\n",
       "      <td>8</td>\n",
       "      <td>(?i)^independent$</td>\n",
       "    </tr>\n",
       "    <tr>\n",
       "      <td>9</td>\n",
       "      <td>(?i)independent contractor</td>\n",
       "    </tr>\n",
       "    <tr>\n",
       "      <td>10</td>\n",
       "      <td>(?i)^consultant$</td>\n",
       "    </tr>\n",
       "    <tr>\n",
       "      <td>11</td>\n",
       "      <td>(?i)freelancer</td>\n",
       "    </tr>\n",
       "    <tr>\n",
       "      <td>12</td>\n",
       "      <td>(?i)freelance</td>\n",
       "    </tr>\n",
       "    <tr>\n",
       "      <td>13</td>\n",
       "      <td>(?i)freelancing</td>\n",
       "    </tr>\n",
       "    <tr>\n",
       "      <td>14</td>\n",
       "      <td>(?i)self-employed</td>\n",
       "    </tr>\n",
       "    <tr>\n",
       "      <td>15</td>\n",
       "      <td>(?i)my home</td>\n",
       "    </tr>\n",
       "    <tr>\n",
       "      <td>16</td>\n",
       "      <td>(?i)me, myself</td>\n",
       "    </tr>\n",
       "    <tr>\n",
       "      <td>17</td>\n",
       "      <td>(?i)me myself</td>\n",
       "    </tr>\n",
       "    <tr>\n",
       "      <td>18</td>\n",
       "      <td>(?i)household</td>\n",
       "    </tr>\n",
       "    <tr>\n",
       "      <td>19</td>\n",
       "      <td>(?i)my house</td>\n",
       "    </tr>\n",
       "  </tbody>\n",
       "</table>\n",
       "</div>"
      ],
      "text/plain": [
       "                             0\n",
       "0                   (?i)^self$\n",
       "1               (?i)^personal$\n",
       "2                   (?i)^home$\n",
       "3                (?i)^private$\n",
       "4             (?i)^individual$\n",
       "5                 (?i)^myself$\n",
       "6                     (?i)^me$\n",
       "7                  (?i)^house$\n",
       "8            (?i)^independent$\n",
       "9   (?i)independent contractor\n",
       "10            (?i)^consultant$\n",
       "11              (?i)freelancer\n",
       "12               (?i)freelance\n",
       "13             (?i)freelancing\n",
       "14           (?i)self-employed\n",
       "15                 (?i)my home\n",
       "16              (?i)me, myself\n",
       "17               (?i)me myself\n",
       "18               (?i)household\n",
       "19                (?i)my house"
      ]
     },
     "execution_count": 9,
     "metadata": {},
     "output_type": "execute_result"
    }
   ],
   "source": [
    "#get path to local github directory for the ossPy function set, use that as a marker to find other files\n",
    "currentDir=os.path.dirname('ossPyFuncs.py')\n",
    "#read in the file\n",
    "householdTermList=pd.read_csv(os.path.join(currentDir,'keyFiles/individualKeys.csv'),quotechar=\"'\",header=None)\n",
    "#look at some of the items  \n",
    "householdTermList.head(20)"
   ]
  },
  {
   "cell_type": "markdown",
   "metadata": {},
   "source": [
    "We see that these are all sql queries for strings which are (we assume) associated with individuals who are engaging in home innovation with open source.  Lets see how many of the individuals from the GHTorrent database this reflects."
   ]
  },
  {
   "cell_type": "code",
   "execution_count": 10,
   "metadata": {},
   "outputs": [
    {
     "name": "stderr",
     "output_type": "stream",
     "text": [
      "/apps/software/standard/core/anaconda/2019.10-py3.7/lib/python3.7/site-packages/pandas/core/indexing.py:205: SettingWithCopyWarning: \n",
      "A value is trying to be set on a copy of a slice from a DataFrame\n",
      "\n",
      "See the caveats in the documentation: http://pandas.pydata.org/pandas-docs/stable/user_guide/indexing.html#returning-a-view-versus-a-copy\n",
      "  self._setitem_with_indexer(indexer, value)\n"
     ]
    },
    {
     "ename": "NameError",
     "evalue": "name 'np' is not defined",
     "output_type": "error",
     "traceback": [
      "\u001b[0;31m---------------------------------------------------------------------------\u001b[0m",
      "\u001b[0;31mNameError\u001b[0m                                 Traceback (most recent call last)",
      "\u001b[0;32m<ipython-input-10-fbc41dc0174b>\u001b[0m in \u001b[0;36m<module>\u001b[0;34m\u001b[0m\n\u001b[1;32m      2\u001b[0m \u001b[0mhouseholdOutColumn\u001b[0m\u001b[0;34m=\u001b[0m\u001b[0mossPyFuncs\u001b[0m\u001b[0;34m.\u001b[0m\u001b[0maddBooleanColumnFromCriteria\u001b[0m\u001b[0;34m(\u001b[0m\u001b[0mcompanyColumn\u001b[0m\u001b[0;34m,\u001b[0m\u001b[0mhouseholdTermList\u001b[0m\u001b[0;34m,\u001b[0m\u001b[0;34m'household'\u001b[0m\u001b[0;34m)\u001b[0m\u001b[0;34m\u001b[0m\u001b[0;34m\u001b[0m\u001b[0m\n\u001b[1;32m      3\u001b[0m \u001b[0;34m\u001b[0m\u001b[0m\n\u001b[0;32m----> 4\u001b[0;31m \u001b[0mprint\u001b[0m\u001b[0;34m(\u001b[0m\u001b[0mstr\u001b[0m\u001b[0;34m(\u001b[0m\u001b[0mnp\u001b[0m\u001b[0;34m.\u001b[0m\u001b[0mcount_nonzero\u001b[0m\u001b[0;34m(\u001b[0m\u001b[0mhouseholdOutColumn\u001b[0m\u001b[0;34m[\u001b[0m\u001b[0;34m'household'\u001b[0m\u001b[0;34m]\u001b[0m\u001b[0;34m)\u001b[0m\u001b[0;34m)\u001b[0m \u001b[0;34m+\u001b[0m \u001b[0;34m' household innovators found'\u001b[0m\u001b[0;34m)\u001b[0m\u001b[0;34m\u001b[0m\u001b[0;34m\u001b[0m\u001b[0m\n\u001b[0m\u001b[1;32m      5\u001b[0m \u001b[0;34m\u001b[0m\u001b[0m\n\u001b[1;32m      6\u001b[0m \u001b[0msubsetHouseholdUsers\u001b[0m\u001b[0;34m=\u001b[0m\u001b[0mhouseholdOutColumn\u001b[0m\u001b[0;34m[\u001b[0m\u001b[0mhouseholdOutColumn\u001b[0m\u001b[0;34m[\u001b[0m\u001b[0;34m'household'\u001b[0m\u001b[0;34m]\u001b[0m\u001b[0;34m]\u001b[0m\u001b[0;34m\u001b[0m\u001b[0;34m\u001b[0m\u001b[0m\n",
      "\u001b[0;31mNameError\u001b[0m: name 'np' is not defined"
     ]
    }
   ],
   "source": [
    "import numpy as np\n",
    "#iteratively apply the list as a string search, and mark true where a match is found\n",
    "householdOutColumn=ossPyFuncs.addBooleanColumnFromCriteria(companyColumn,householdTermList,'household')\n",
    "\n",
    "print(str(np.count_nonzero(householdOutColumn['household'])) + ' household innovators found')\n",
    "\n",
    "subsetHouseholdUsers=householdOutColumn[householdOutColumn['household']]\n",
    "subsetHouseholdUsersCountDF=subsetHouseholdUsers['company'].value_counts()\n",
    "subsetHouseholdUsersCountDF.head(20)"
   ]
  },
  {
   "cell_type": "markdown",
   "metadata": {},
   "source": [
    "That's a fairly sizable number.  Lets try this same approach again, but this time, instead of using a list of terms we generated, lets use an existing list of academic institutions"
   ]
  },
  {
   "cell_type": "code",
   "execution_count": 9,
   "metadata": {},
   "outputs": [
    {
     "name": "stdout",
     "output_type": "stream",
     "text": [
      "20202 academic contributors found\n"
     ]
    },
    {
     "data": {
      "text/plain": [
       "Carnegie Mellon University           471\n",
       "University of Washington             392\n",
       "Stanford University                  385\n",
       "Columbia University                  241\n",
       "Tsinghua University                  240\n",
       "Cornell University                   203\n",
       "University of Waterloo               200\n",
       "University of Toronto                189\n",
       "Imperial College London              182\n",
       "Zhejiang University                  166\n",
       "University of Cambridge              163\n",
       "University of Oxford                 160\n",
       "Peking University                    159\n",
       "New York University                  159\n",
       "Northeastern University              158\n",
       "Duke University                      157\n",
       "Harvard University                   153\n",
       "University of Pennsylvania           152\n",
       "Johns Hopkins University             149\n",
       "University of Southern California    149\n",
       "Name: company, dtype: int64"
      ]
     },
     "execution_count": 9,
     "metadata": {},
     "output_type": "execute_result"
    }
   ],
   "source": [
    "#formulate sql query\n",
    "postgreSql_selectQuery=\"SELECT institution FROM hipolabs.universities ;\"\n",
    "#perform query\n",
    "universitiesList=ossPyFuncs.queryToPDTable(postgreSql_selectQuery)\n",
    "\n",
    "#use that query output for the iterative boolean vector creation\n",
    "universityOutColumn=ossPyFuncs.addBooleanColumnFromCriteria(companyColumn,universitiesList,'academic')\n",
    "\n",
    "#count the number of true\n",
    "print(str(np.count_nonzero(universityOutColumn['academic'])) + ' academic contributors found')\n",
    "\n",
    "subsetAcademicUsers=universityOutColumn[universityOutColumn['academic']]\n",
    "subsetAcademicUsersCountDF=subsetAcademicUsers['company'].value_counts()\n",
    "subsetAcademicUsersCountDF.head(20)\n"
   ]
  },
  {
   "cell_type": "markdown",
   "metadata": {},
   "source": [
    "And now lets do the same thing again but for government branches"
   ]
  },
  {
   "cell_type": "code",
   "execution_count": 10,
   "metadata": {},
   "outputs": [
    {
     "name": "stdout",
     "output_type": "stream",
     "text": [
      "565 government contributors found\n"
     ]
    },
    {
     "data": {
      "text/plain": [
       "Argonne National Laboratory                       54\n",
       "Oak Ridge National Laboratory                     54\n",
       "Los Alamos National Laboratory                    40\n",
       "Lawrence Livermore National Laboratory            37\n",
       "Sandia National Laboratories                      34\n",
       "Lawrence Berkeley National Laboratory             27\n",
       "Brookhaven National Laboratory                    17\n",
       "Pacific Northwest National Laboratory             16\n",
       "SLAC National Accelerator Laboratory              12\n",
       "Lawrence Livermore National Laboratory, @LLNL     12\n",
       "Fermi National Accelerator Laboratory             11\n",
       "Idaho National Laboratory                         10\n",
       "Consumer Financial Protection Bureau               8\n",
       "National Renewable Energy Laboratory               6\n",
       "US Army                                            6\n",
       "Fannie Mae                                         4\n",
       "PayPerMint                                         4\n",
       "US Navy                                            3\n",
       "Lawrence Livermore National Laboratory, @LLNL      3\n",
       "Mint Digital                                       2\n",
       "Name: company, dtype: int64"
      ]
     },
     "execution_count": 10,
     "metadata": {},
     "output_type": "execute_result"
    }
   ],
   "source": [
    "#formulate sql query\n",
    "postgreSql_selectQuery=\"SELECT agency FROM us_gov_depts.us_gov_azindex ;\"\n",
    "#perform query\n",
    "govtList=ossPyFuncs.queryToPDTable(postgreSql_selectQuery)\n",
    "\n",
    "#use that query output for the iterative boolean vector creation\n",
    "governmentOutColumn=ossPyFuncs.addBooleanColumnFromCriteria(companyColumn,govtList,'government')\n",
    "\n",
    "#count the number of true\n",
    "print(str(np.count_nonzero(governmentOutColumn['government'])) + ' government contributors found')\n",
    "\n",
    "subsetGovernmentUsers=governmentOutColumn[governmentOutColumn['government']]\n",
    "subsetGovernmentUsersCountDF=subsetGovernmentUsers['company'].value_counts()\n",
    "subsetGovernmentUsersCountDF.head(20)"
   ]
  },
  {
   "cell_type": "markdown",
   "metadata": {},
   "source": [
    "And finally lets try this for commercial entities"
   ]
  },
  {
   "cell_type": "code",
   "execution_count": 5,
   "metadata": {},
   "outputs": [
    {
     "name": "stderr",
     "output_type": "stream",
     "text": [
      "/apps/software/standard/core/anaconda/2019.10-py3.7/lib/python3.7/site-packages/pandas/core/strings.py:1843: UserWarning: This pattern has match groups. To actually get the groups, use str.extract.\n",
      "  return func(self, *args, **kwargs)\n"
     ]
    },
    {
     "name": "stdout",
     "output_type": "stream",
     "text": [
      "37749 business contributors found\n"
     ]
    },
    {
     "data": {
      "text/plain": [
       "Microsoft                4301\n",
       "Red Hat                  1594\n",
       "IBM                      1492\n",
       "@Microsoft                730\n",
       "@Microsoft                674\n",
       "Facebook                  670\n",
       "Intel                     608\n",
       "Amazon                    502\n",
       "Alibaba                   351\n",
       "Microsoft Corporation     335\n",
       "Amazon Web Services       318\n",
       "Baidu                     286\n",
       "Oracle                    265\n",
       "@IBM                      248\n",
       "Intel Corporation         222\n",
       "Uber                      218\n",
       "Adobe                     214\n",
       "Accenture                 214\n",
       "SAP                       207\n",
       "Twitter                   201\n",
       "Name: company, dtype: int64"
      ]
     },
     "execution_count": 5,
     "metadata": {},
     "output_type": "execute_result"
    }
   ],
   "source": [
    "#extract multiple tables from the forbes dataset\n",
    "postgreSql_selectQuery=\"SELECT company FROM forbes.fortune2018_us1000 ;\"\n",
    "fortune2018=ossPyFuncs.queryToPDTable(postgreSql_selectQuery)\n",
    "\n",
    "postgreSql_selectQuery=\"SELECT company FROM forbes.fortune2019_us1000 ;\"\n",
    "fortune2019=ossPyFuncs.queryToPDTable(postgreSql_selectQuery)\n",
    "\n",
    "postgreSql_selectQuery=\"SELECT company FROM forbes.fortune2020_global2000 ;\"\n",
    "global2020=ossPyFuncs.queryToPDTable(postgreSql_selectQuery)\n",
    "\n",
    "#merge them together\n",
    "mergedCompanies=pd.concat([fortune2018,fortune2019,global2020],ignore_index=True)\n",
    "\n",
    "#use that query output for the iterative boolean vector creation\n",
    "businessOutColumn=ossPyFuncs.addBooleanColumnFromCriteria(companyColumn,mergedCompanies,'business')\n",
    "\n",
    "#count the number of true\n",
    "print(str(np.count_nonzero(businessOutColumn['business'])) + ' business contributors found')\n",
    "\n",
    "subsetBusinessUsers=businessOutColumn[businessOutColumn['business']]\n",
    "subsetBusinessUsersCountDF=subsetBusinessUsers['company'].value_counts()\n",
    "subsetBusinessUsersCountDF.head(20)"
   ]
  },
  {
   "cell_type": "markdown",
   "metadata": {},
   "source": [
    "Although this is a nontrivial number of people we've captured, it's still only a fraction of the 400 thousand plus users who have entered professional affiliations.  In the next notebook chapter, we'll look at a number of strategies for cleaning our input data to optimize our sectoring efforts."
   ]
  }
 ],
 "metadata": {
  "kernelspec": {
   "display_name": "Python 3.7",
   "language": "python",
   "name": "python37"
  },
  "language_info": {
   "codemirror_mode": {
    "name": "ipython",
    "version": 3
   },
   "file_extension": ".py",
   "mimetype": "text/x-python",
   "name": "python",
   "nbconvert_exporter": "python",
   "pygments_lexer": "ipython3",
   "version": "3.7.4"
  }
 },
 "nbformat": 4,
 "nbformat_minor": 2
}
