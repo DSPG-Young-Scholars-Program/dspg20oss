{
 "cells": [
  {
   "cell_type": "markdown",
   "metadata": {},
   "source": [
    "As part of our overarching strategy for assigning users to specific sectors, we need to be able to assign users to business as well.  Given the specifics of our source dataset (GHTorrent), we can reasonably assume that the more frequently that a company name appears, the more \"authoratative\" (reflective of a consensus) of a representation of that company name it is.  Once we've removed the user entries that correspond to the non-business sectors, we can be reasonably confident in mapping users whose worplace affiliation listing is shared with some critical threshold of other users (i.e. 5) to the business sector.\n",
    "\n",
    "Lets begin by [obtaining the raw user data from the sql database](https://github.com/DSPG-Young-Scholars-Program/dspg20oss/blob/3a4431544bc32ac6abc82f14f8ccdd9f90923089/ossPy/ossPyFuncs.py#L9), as well as the user mappings for the acadmic and government sector."
   ]
  },
  {
   "cell_type": "code",
   "execution_count": 1,
   "metadata": {},
   "outputs": [],
   "source": [
    "import os\n",
    "os.chdir('../')\n",
    "#assuming you're starting this notebook from it's source directory,\n",
    "#this will get us to the directory containing the ossPyFuncs library\n",
    "import ossPyFuncs\n",
    "\n",
    "#obtain the raw GHTorrent data\n",
    "postgreSql_selectQuery=\"SELECT login, company FROM gh.ctrs_raw ;\"\n",
    "fullData=ossPyFuncs.queryToPDTable(postgreSql_selectQuery)\n",
    "\n",
    "#perform sql query for academic entries\n",
    "postgreSql_selectQuery=\"SELECT login, company_cleaned, is_academic FROM gh.sna_ctr_academic ;\"\n",
    "academicCleaned=ossPyFuncs.queryToPDTable(postgreSql_selectQuery)\n",
    "\n",
    "#perform sql qery for government entries\n",
    "postgreSql_selectQuery=\"SELECT login, is_gov FROM gh.sna_ctr_gov ;\"\n",
    "govData=ossPyFuncs.queryToPDTable(postgreSql_selectQuery)\n",
    "\n",
    "\n",
    "#add nonprofit here and in the next code block if desired"
   ]
  },
  {
   "cell_type": "markdown",
   "metadata": {},
   "source": [
    "Now that we have obtained those pre-exisitng user mappings, we need to join them into one table."
   ]
  },
  {
   "cell_type": "code",
   "execution_count": null,
   "metadata": {},
   "outputs": [],
   "source": [
    "import pandas as pd\n",
    "\n",
    "#join the academic into the raw table\n",
    "joinedData1=fullData.set_index('login').join(academicCleaned.set_index('login'))\n",
    "\n",
    "#join the government table into the raw/academic table\n",
    "joinedData2=joinedData1.join(govData.set_index('login'))\n",
    "\n",
    "#reset the the indexes\n",
    "joinedAndReset=joinedData2.reset_index()\n",
    "\n",
    "#it seems that pandas interpolates with NaN, which we have to reset to the relevant values for each column\n",
    "academicNanFix=pd.DataFrame(joinedAndReset['is_academic'].fillna(value=False))\n",
    "govNanFix=pd.DataFrame(joinedAndReset['is_gov'].fillna(value=False))\n",
    "companyCleanFix=pd.DataFrame(joinedAndReset['company_cleaned'].fillna(value=''))\n",
    "\n",
    "#take those NAN replaced columns and reinsert them\n",
    "fixedDataframe=joinedAndReset.assign(is_gov=govNanFix['is_gov'],is_academic=academicNanFix['is_academic'],company_cleaned=companyCleanFix['company_cleaned'])\n",
    "\n",
    "fixedDataframe.head(10)"
   ]
  },
  {
   "cell_type": "markdown",
   "metadata": {},
   "source": [
    "In order to perform a full sectoring we also need the information for household and null values.  Lets obtain those now from our source keylists for [household](https://github.com/DSPG-Young-Scholars-Program/dspg20oss/blob/master/ossPy/keyFiles/individualKeys.csv) and [null values](https://github.com/DSPG-Young-Scholars-Program/dspg20oss/blob/master/ossPy/keyFiles/nullKeys.csv).  After that, we'll determine which users have yet to be mapped"
   ]
  },
  {
   "cell_type": "code",
   "execution_count": null,
   "metadata": {},
   "outputs": [],
   "source": [
    "import pandas as pd\n",
    "import numpy as np\n",
    "\n",
    "#get the directory structure using the ossPyFuncs library as the reference point\n",
    "currentDir=os.path.dirname('ossPyFuncs.py')\n",
    "\n",
    "#obtain the household list from the keyfile directory, and make a bool column for it\n",
    "houseHoldList=pd.read_csv(os.path.join(currentDir,'keyFiles/individualKeys.csv'),quotechar=\"'\",header=None)\n",
    "withHouseholdColumn=ossPyFuncs.addBooleanColumnFromCriteria(pd.DataFrame(fixedDataframe['company']),houseHoldList,'household')\n",
    "#get the count\n",
    "householdCount=np.count_nonzero(withHouseholdColumn['household'])\n",
    "print(str(householdCount) + ' users in individual sector')\n",
    "#add the column to the main table\n",
    "fixedDataframe['household']=withHouseholdColumn['household']\n",
    "\n",
    "#obtain the null list from the keyfile directory, and make a bool column for it\n",
    "noneList=pd.read_csv(os.path.join(currentDir,'keyFiles/nullKeys.csv'),quotechar=\"'\",header=None)\n",
    "withNoneColumn=ossPyFuncs.addBooleanColumnFromCriteria(pd.DataFrame(fixedDataframe['company']),noneList,'null')\n",
    "#get the count\n",
    "nullCount=np.count_nonzero(withNoneColumn['null'])\n",
    "print(str(nullCount) + ' users with null affiliations')\n",
    "#add the column to the main table\n",
    "fixedDataframe['null']=withNoneColumn['null']\n",
    "\n",
    "#generate a bool column for all users that have been mapped, these will be excluded from our business count\n",
    "alreadyAssigned=fixedDataframe[['is_gov','is_academic','household','null']].any(axis=1)\n",
    "\n",
    "#extract those users which are not assigned\n",
    "onlyUnassignedFrame=fixedDataframe.loc[~alreadyAssigned]"
   ]
  },
  {
   "cell_type": "markdown",
   "metadata": {},
   "source": [
    "Now that we have derived the list of users which have yet to be assigned, lets clean their input in the company column, in preperation for subsequent processing.  We'll be cleaning out entries for substrings related to [legal entities](https://github.com/DSPG-Young-Scholars-Program/dspg20oss/blob/master/ossPy/keyFiles/curatedLegalEntitesRaw.csv), [web domains](https://github.com/DSPG-Young-Scholars-Program/dspg20oss/blob/master/ossPy/keyFiles/curatedDomains.csv), and [extraneous symbols](https://github.com/DSPG-Young-Scholars-Program/dspg20oss/blob/master/ossPy/keyFiles/symbolRemove.csv) as [described in another notebook](https://github.com/DSPG-Young-Scholars-Program/dspg20oss/blob/master/ossPy/Notebooks/Company%20Cleaning%20Narritive.ipynb) and [quantatively profiled in another](https://github.com/DSPG-Young-Scholars-Program/dspg20oss/blob/master/ossPy/Notebooks/Cleaning%20heuristic%20assesment.ipynb)."
   ]
  },
  {
   "cell_type": "code",
   "execution_count": 10,
   "metadata": {},
   "outputs": [],
   "source": [
    "import numpy as np\n",
    "\n",
    "#construct path to legal entity list and erase them\n",
    "LElist=pd.read_csv(os.path.join(currentDir,'keyFiles/curatedLegalEntitesRaw.csv'),quotechar=\"'\",header=None)\n",
    "LEoutput, LEeraseList=ossPyFuncs.eraseFromColumn(onlyUnassignedFrame['company'],LElist)\n",
    "\n",
    "#construct path to legal symbol list and erase them\n",
    "symbollist=pd.read_csv(os.path.join(currentDir,'keyFiles/symbolRemove.csv'),quotechar=\"'\",header=None)\n",
    "Symboloutput, symbolEraseList=ossPyFuncs.eraseFromColumn(LEoutput,symbollist)\n",
    "#construct path to legal symbol list and erase them\n",
    "domainsList=pd.read_csv(os.path.join(currentDir,'keyFiles/curatedDomains.csv'),quotechar=\"'\",header=None)\n",
    "domiansOutput, domainsEraseList=ossPyFuncs.eraseFromColumn(Symboloutput,domainsList)"
   ]
  },
  {
   "cell_type": "markdown",
   "metadata": {},
   "source": [
    "Now that we have fully cleaned and remapped the data (and in doing so, collapsed redundant entries in to one another) we can now apply our heuristic count.  Specifically, given that we have removed all entries which would be associated with governmental, academic, and independent (household) users (and removed null entries), it seems reasonable to assume that entries which have multiple users listing them are businesses.  This inference is based on our exhausting any other workplace affiliations that a person might express.\n",
    "\n",
    "However, we have to apply a (somewhat arbitrary) cutoff when we decide the minimum number of users which have to list the same workplace in order for us to assume it reflects a valid business.  We'll begin with 5, but the code can be changed as one sees fit."
   ]
  },
  {
   "cell_type": "code",
   "execution_count": 11,
   "metadata": {},
   "outputs": [
    {
     "name": "stdout",
     "output_type": "stream",
     "text": [
      "105256 users users assumed to be business sector, with 5 or more other users with the same listing\n"
     ]
    }
   ],
   "source": [
    "#set the threshold, change if you'd like\n",
    "threshold=5\n",
    "#get the column names\n",
    "domiansOutput=pd.DataFrame(domiansOutput)\n",
    "inputColumnName=domiansOutput.columns\n",
    "\n",
    "#get the counts from the cleaned column\n",
    "tableCleanedFullNameCounts=domiansOutput[inputColumnName[0]].value_counts()\n",
    "#convert that output to a proper table\n",
    "tableCleanedFullNameCounts=tableCleanedFullNameCounts.reset_index()\n",
    "#rename the columns\n",
    "tableCleanedFullNameCounts.rename(columns={inputColumnName[0]:\"count\",\"index\":inputColumnName[0]},inplace=True)\n",
    "\n",
    "\n",
    "#+1 because we are using greater than or equal to\n",
    "#we'll also be using this vector to obtain our user remapping\n",
    "aboveThresholdBoolVec=tableCleanedFullNameCounts['count'].ge(threshold+1)\n",
    "\n",
    "totalUsersAboveThreshold=np.sum(tableCleanedFullNameCounts['count'].loc[aboveThresholdBoolVec])\n",
    "\n",
    "print(str(totalUsersAboveThreshold)+ ' users users assumed to be business sector, with ' + str(threshold) + ' or more other users with the same listing')"
   ]
  },
  {
   "cell_type": "markdown",
   "metadata": {},
   "source": [
    "Now that we have obtained the raw count of the users meeting this criteria, we can also obtain a boolean vector that indicates which users are associated with these presumed businesses."
   ]
  },
  {
   "cell_type": "code",
   "execution_count": 16,
   "metadata": {},
   "outputs": [],
   "source": [
    "#force lowercase\n",
    "domiansOutput=domiansOutput.assign(company=domiansOutput['company'].str.lower())\n",
    "\n",
    "#we need to obtain the subject mapping to count, which we get via company affiliation.  We have a function for that.\n",
    "sortedInputColumn, sortedTableUniqueFullNameCounts=ossPyFuncs.uniquePandasIndexMapping(pd.DataFrame(domiansOutput))  "
   ]
  },
  {
   "cell_type": "code",
   "execution_count": 30,
   "metadata": {},
   "outputs": [
    {
     "name": "stdout",
     "output_type": "stream",
     "text": [
      "[-1]\n"
     ]
    },
    {
     "data": {
      "text/html": [
       "<div>\n",
       "<style scoped>\n",
       "    .dataframe tbody tr th:only-of-type {\n",
       "        vertical-align: middle;\n",
       "    }\n",
       "\n",
       "    .dataframe tbody tr th {\n",
       "        vertical-align: top;\n",
       "    }\n",
       "\n",
       "    .dataframe thead th {\n",
       "        text-align: right;\n",
       "    }\n",
       "</style>\n",
       "<table border=\"1\" class=\"dataframe\">\n",
       "  <thead>\n",
       "    <tr style=\"text-align: right;\">\n",
       "      <th></th>\n",
       "      <th>login</th>\n",
       "      <th>company</th>\n",
       "      <th>company_cleaned</th>\n",
       "      <th>is_academic</th>\n",
       "      <th>is_gov</th>\n",
       "      <th>household</th>\n",
       "      <th>is_business</th>\n",
       "      <th>AfiliationString</th>\n",
       "      <th>null</th>\n",
       "    </tr>\n",
       "  </thead>\n",
       "  <tbody>\n",
       "    <tr>\n",
       "      <td>0</td>\n",
       "      <td>0</td>\n",
       "      <td>None</td>\n",
       "      <td>None</td>\n",
       "      <td>False</td>\n",
       "      <td>False</td>\n",
       "      <td>False</td>\n",
       "      <td>False</td>\n",
       "      <td>Unmapped</td>\n",
       "      <td>False</td>\n",
       "    </tr>\n",
       "    <tr>\n",
       "      <td>1</td>\n",
       "      <td>0----0</td>\n",
       "      <td>None</td>\n",
       "      <td>None</td>\n",
       "      <td>False</td>\n",
       "      <td>False</td>\n",
       "      <td>False</td>\n",
       "      <td>False</td>\n",
       "      <td>Unmapped</td>\n",
       "      <td>False</td>\n",
       "    </tr>\n",
       "    <tr>\n",
       "      <td>2</td>\n",
       "      <td>0--key</td>\n",
       "      <td>None</td>\n",
       "      <td>None</td>\n",
       "      <td>False</td>\n",
       "      <td>False</td>\n",
       "      <td>False</td>\n",
       "      <td>False</td>\n",
       "      <td>Unmapped</td>\n",
       "      <td>False</td>\n",
       "    </tr>\n",
       "    <tr>\n",
       "      <td>3</td>\n",
       "      <td>0-0-1</td>\n",
       "      <td>None</td>\n",
       "      <td>None</td>\n",
       "      <td>False</td>\n",
       "      <td>False</td>\n",
       "      <td>False</td>\n",
       "      <td>False</td>\n",
       "      <td>Unmapped</td>\n",
       "      <td>False</td>\n",
       "    </tr>\n",
       "    <tr>\n",
       "      <td>4</td>\n",
       "      <td>0-1-</td>\n",
       "      <td>None</td>\n",
       "      <td>None</td>\n",
       "      <td>False</td>\n",
       "      <td>False</td>\n",
       "      <td>False</td>\n",
       "      <td>False</td>\n",
       "      <td>Unmapped</td>\n",
       "      <td>False</td>\n",
       "    </tr>\n",
       "    <tr>\n",
       "      <td>5</td>\n",
       "      <td>0-22</td>\n",
       "      <td>None</td>\n",
       "      <td>None</td>\n",
       "      <td>False</td>\n",
       "      <td>False</td>\n",
       "      <td>False</td>\n",
       "      <td>False</td>\n",
       "      <td>Unmapped</td>\n",
       "      <td>False</td>\n",
       "    </tr>\n",
       "    <tr>\n",
       "      <td>6</td>\n",
       "      <td>0-3</td>\n",
       "      <td>Reborn Network</td>\n",
       "      <td>reborn network</td>\n",
       "      <td>False</td>\n",
       "      <td>False</td>\n",
       "      <td>False</td>\n",
       "      <td>False</td>\n",
       "      <td>Unmapped</td>\n",
       "      <td>False</td>\n",
       "    </tr>\n",
       "    <tr>\n",
       "      <td>7</td>\n",
       "      <td>0-60FPS</td>\n",
       "      <td>None</td>\n",
       "      <td>None</td>\n",
       "      <td>False</td>\n",
       "      <td>False</td>\n",
       "      <td>False</td>\n",
       "      <td>False</td>\n",
       "      <td>Unmapped</td>\n",
       "      <td>False</td>\n",
       "    </tr>\n",
       "    <tr>\n",
       "      <td>8</td>\n",
       "      <td>0-8-15</td>\n",
       "      <td>None</td>\n",
       "      <td>None</td>\n",
       "      <td>False</td>\n",
       "      <td>False</td>\n",
       "      <td>False</td>\n",
       "      <td>False</td>\n",
       "      <td>Unmapped</td>\n",
       "      <td>False</td>\n",
       "    </tr>\n",
       "    <tr>\n",
       "      <td>9</td>\n",
       "      <td>0-CNice</td>\n",
       "      <td>None</td>\n",
       "      <td>None</td>\n",
       "      <td>False</td>\n",
       "      <td>False</td>\n",
       "      <td>False</td>\n",
       "      <td>False</td>\n",
       "      <td>Unmapped</td>\n",
       "      <td>False</td>\n",
       "    </tr>\n",
       "  </tbody>\n",
       "</table>\n",
       "</div>"
      ],
      "text/plain": [
       "     login         company company_cleaned is_academic  is_gov  household  \\\n",
       "0        0            None            None       False   False      False   \n",
       "1   0----0            None            None       False   False      False   \n",
       "2   0--key            None            None       False   False      False   \n",
       "3    0-0-1            None            None       False   False      False   \n",
       "4     0-1-            None            None       False   False      False   \n",
       "5     0-22            None            None       False   False      False   \n",
       "6      0-3  Reborn Network  reborn network       False   False      False   \n",
       "7  0-60FPS            None            None       False   False      False   \n",
       "8   0-8-15            None            None       False   False      False   \n",
       "9  0-CNice            None            None       False   False      False   \n",
       "\n",
       "   is_business AfiliationString   null  \n",
       "0        False         Unmapped  False  \n",
       "1        False         Unmapped  False  \n",
       "2        False         Unmapped  False  \n",
       "3        False         Unmapped  False  \n",
       "4        False         Unmapped  False  \n",
       "5        False         Unmapped  False  \n",
       "6        False         Unmapped  False  \n",
       "7        False         Unmapped  False  \n",
       "8        False         Unmapped  False  \n",
       "9        False         Unmapped  False  "
      ]
     },
     "execution_count": 30,
     "metadata": {},
     "output_type": "execute_result"
    }
   ],
   "source": [
    "#splitting this out because previous cell takes a long time to run\n",
    "\n",
    "#reset the indexing alterations that occur with the previous function\n",
    "namesWithMapping=sortedTableUniqueFullNameCounts.set_index('index')\n",
    "namesWithMapping=namesWithMapping.sort_index()\n",
    "\n",
    "#drop the empty vector\n",
    "namesWithMapping=namesWithMapping[namesWithMapping.company != '']\n",
    "\n",
    "#may need to resort this in order to get it to line up with origional\n",
    "superThresholdIndexSubframe=namesWithMapping['inputIndexMapping'].loc[aboveThresholdBoolVec]\n",
    "\n",
    "#initialize concatonation vector\n",
    "concatIndexArray=np.ma.empty([1],dtype=int)\n",
    "print(concatIndexArray)\n",
    "#WARNING: this function generates an array that is NOT empty, but rather contains a -1 which will cause \n",
    "#signifigant problems when indexing if not dealt with.\n",
    "\n",
    "#iteratively concatonate the user indexes obtained from the remapping function\n",
    "for index, value in superThresholdIndexSubframe.iteritems():\n",
    "    concatIndexArray=np.concatenate([concatIndexArray,superThresholdIndexSubframe.loc[index].to_numpy()])\n",
    "\n",
    "#here we deal with the aformentioned [-1] issue by indexing all but the first numbers of the vector\n",
    "concatIndexArray= concatIndexArray[1:-1]   \n",
    "    \n",
    "fixedDataframe['is_business']=False\n",
    "fixedDataframe['is_business'].loc[concatIndexArray]=True\n",
    "fixedDataframe['company_cleaned']=domiansOutput\n",
    "\n",
    "fixedDataframe.head(10)\n",
    "#save down this object if you so choose, WARNING: it will be big\n",
    "#fixedDataframe.to_csv('some.file.path')"
   ]
  },
  {
   "cell_type": "markdown",
   "metadata": {},
   "source": [
    "As we round out this notebook we can make some final observations.  For example, we can look at the top 20 company affiliations on GitHub"
   ]
  },
  {
   "cell_type": "code",
   "execution_count": 18,
   "metadata": {},
   "outputs": [
    {
     "data": {
      "text/html": [
       "<div>\n",
       "<style scoped>\n",
       "    .dataframe tbody tr th:only-of-type {\n",
       "        vertical-align: middle;\n",
       "    }\n",
       "\n",
       "    .dataframe tbody tr th {\n",
       "        vertical-align: top;\n",
       "    }\n",
       "\n",
       "    .dataframe thead th {\n",
       "        text-align: right;\n",
       "    }\n",
       "</style>\n",
       "<table border=\"1\" class=\"dataframe\">\n",
       "  <thead>\n",
       "    <tr style=\"text-align: right;\">\n",
       "      <th></th>\n",
       "      <th>company</th>\n",
       "      <th>count</th>\n",
       "      <th>inputIndexMapping</th>\n",
       "    </tr>\n",
       "    <tr>\n",
       "      <th>index</th>\n",
       "      <th></th>\n",
       "      <th></th>\n",
       "      <th></th>\n",
       "    </tr>\n",
       "  </thead>\n",
       "  <tbody>\n",
       "    <tr>\n",
       "      <td>0</td>\n",
       "      <td>microsoft</td>\n",
       "      <td>6373</td>\n",
       "      <td>[1648139, 247450, 334972, 835170, 2046306, 183...</td>\n",
       "    </tr>\n",
       "    <tr>\n",
       "      <td>1</td>\n",
       "      <td>google</td>\n",
       "      <td>3735</td>\n",
       "      <td>[802573, 1438787, 203325, 680420, 981379, 9388...</td>\n",
       "    </tr>\n",
       "    <tr>\n",
       "      <td>2</td>\n",
       "      <td>red hat</td>\n",
       "      <td>1901</td>\n",
       "      <td>[70593, 1248411, 1614203, 2061483, 1247928, 77...</td>\n",
       "    </tr>\n",
       "    <tr>\n",
       "      <td>3</td>\n",
       "      <td>ibm</td>\n",
       "      <td>1866</td>\n",
       "      <td>[2096665, 1314309, 777579, 1310262, 841397, 17...</td>\n",
       "    </tr>\n",
       "    <tr>\n",
       "      <td>4</td>\n",
       "      <td>facebook</td>\n",
       "      <td>1196</td>\n",
       "      <td>[1647053, 1872631, 804137, 2005713, 645894, 14...</td>\n",
       "    </tr>\n",
       "    <tr>\n",
       "      <td>5</td>\n",
       "      <td>intel</td>\n",
       "      <td>1001</td>\n",
       "      <td>[1754195, 1359358, 1090717, 1845603, 1434195, ...</td>\n",
       "    </tr>\n",
       "    <tr>\n",
       "      <td>6</td>\n",
       "      <td>thoughtworks</td>\n",
       "      <td>870</td>\n",
       "      <td>[1047817, 729364, 1770122, 665142, 1450064, 66...</td>\n",
       "    </tr>\n",
       "    <tr>\n",
       "      <td>7</td>\n",
       "      <td>alibaba</td>\n",
       "      <td>697</td>\n",
       "      <td>[1435429, 37256, 513138, 1089946, 1458064, 858...</td>\n",
       "    </tr>\n",
       "    <tr>\n",
       "      <td>8</td>\n",
       "      <td>tencent</td>\n",
       "      <td>659</td>\n",
       "      <td>[2034612, 705394, 147046, 2056915, 2043892, 24...</td>\n",
       "    </tr>\n",
       "    <tr>\n",
       "      <td>9</td>\n",
       "      <td>amazon</td>\n",
       "      <td>656</td>\n",
       "      <td>[332743, 1235337, 1675447, 618017, 2038696, 67...</td>\n",
       "    </tr>\n",
       "    <tr>\n",
       "      <td>11</td>\n",
       "      <td>baidu</td>\n",
       "      <td>595</td>\n",
       "      <td>[960585, 1108327, 1559319, 1155005, 1977855, 1...</td>\n",
       "    </tr>\n",
       "    <tr>\n",
       "      <td>12</td>\n",
       "      <td>esri</td>\n",
       "      <td>555</td>\n",
       "      <td>[1856300, 1842815, 625693, 1528768, 1092154, 1...</td>\n",
       "    </tr>\n",
       "    <tr>\n",
       "      <td>13</td>\n",
       "      <td>sap</td>\n",
       "      <td>511</td>\n",
       "      <td>[203612, 197244, 586779, 404870, 1121220, 1616...</td>\n",
       "    </tr>\n",
       "    <tr>\n",
       "      <td>14</td>\n",
       "      <td>shopify</td>\n",
       "      <td>491</td>\n",
       "      <td>[808086, 642203, 400975, 1434963, 1440099, 108...</td>\n",
       "    </tr>\n",
       "    <tr>\n",
       "      <td>15</td>\n",
       "      <td>mozilla</td>\n",
       "      <td>483</td>\n",
       "      <td>[939970, 955345, 183003, 1254553, 1273311, 774...</td>\n",
       "    </tr>\n",
       "    <tr>\n",
       "      <td>16</td>\n",
       "      <td>pivotal</td>\n",
       "      <td>423</td>\n",
       "      <td>[1591490, 1657114, 1204894, 673387, 1690060, 1...</td>\n",
       "    </tr>\n",
       "    <tr>\n",
       "      <td>17</td>\n",
       "      <td>oracle</td>\n",
       "      <td>421</td>\n",
       "      <td>[174139, 544255, 362333, 2100631, 1532868, 105...</td>\n",
       "    </tr>\n",
       "    <tr>\n",
       "      <td>18</td>\n",
       "      <td>salesforce</td>\n",
       "      <td>407</td>\n",
       "      <td>[925674, 1640515, 1913670, 652920, 715102, 169...</td>\n",
       "    </tr>\n",
       "    <tr>\n",
       "      <td>19</td>\n",
       "      <td>yandex</td>\n",
       "      <td>403</td>\n",
       "      <td>[1805035, 653504, 1714883, 133379, 855734, 200...</td>\n",
       "    </tr>\n",
       "    <tr>\n",
       "      <td>20</td>\n",
       "      <td>linkedin</td>\n",
       "      <td>400</td>\n",
       "      <td>[2042819, 1649994, 1254842, 1706456, 479650, 1...</td>\n",
       "    </tr>\n",
       "  </tbody>\n",
       "</table>\n",
       "</div>"
      ],
      "text/plain": [
       "            company  count                                  inputIndexMapping\n",
       "index                                                                        \n",
       "0         microsoft   6373  [1648139, 247450, 334972, 835170, 2046306, 183...\n",
       "1            google   3735  [802573, 1438787, 203325, 680420, 981379, 9388...\n",
       "2           red hat   1901  [70593, 1248411, 1614203, 2061483, 1247928, 77...\n",
       "3               ibm   1866  [2096665, 1314309, 777579, 1310262, 841397, 17...\n",
       "4          facebook   1196  [1647053, 1872631, 804137, 2005713, 645894, 14...\n",
       "5             intel   1001  [1754195, 1359358, 1090717, 1845603, 1434195, ...\n",
       "6      thoughtworks    870  [1047817, 729364, 1770122, 665142, 1450064, 66...\n",
       "7           alibaba    697  [1435429, 37256, 513138, 1089946, 1458064, 858...\n",
       "8           tencent    659  [2034612, 705394, 147046, 2056915, 2043892, 24...\n",
       "9            amazon    656  [332743, 1235337, 1675447, 618017, 2038696, 67...\n",
       "11            baidu    595  [960585, 1108327, 1559319, 1155005, 1977855, 1...\n",
       "12             esri    555  [1856300, 1842815, 625693, 1528768, 1092154, 1...\n",
       "13              sap    511  [203612, 197244, 586779, 404870, 1121220, 1616...\n",
       "14          shopify    491  [808086, 642203, 400975, 1434963, 1440099, 108...\n",
       "15          mozilla    483  [939970, 955345, 183003, 1254553, 1273311, 774...\n",
       "16          pivotal    423  [1591490, 1657114, 1204894, 673387, 1690060, 1...\n",
       "17           oracle    421  [174139, 544255, 362333, 2100631, 1532868, 105...\n",
       "18       salesforce    407  [925674, 1640515, 1913670, 652920, 715102, 169...\n",
       "19           yandex    403  [1805035, 653504, 1714883, 133379, 855734, 200...\n",
       "20         linkedin    400  [2042819, 1649994, 1254842, 1706456, 479650, 1..."
      ]
     },
     "execution_count": 18,
     "metadata": {},
     "output_type": "execute_result"
    }
   ],
   "source": [
    "namesWithMapping.head(20)"
   ]
  },
  {
   "cell_type": "code",
   "execution_count": 23,
   "metadata": {},
   "outputs": [
    {
     "data": {
      "image/png": "[encoded data removed]",
      "text/plain": [
       "<Figure size 432x288 with 1 Axes>"
      ]
     },
     "metadata": {
      "needs_background": "light"
     },
     "output_type": "display_data"
    }
   ],
   "source": [
    "top20=namesWithMapping.loc[0:20]\n",
    "import seaborn as sns\n",
    "ax=sns.barplot(x='count',y='company',data=top20)"
   ]
  },
  {
   "cell_type": "markdown",
   "metadata": {},
   "source": [
    "Additionally, we can create a barplot depiciting the counts for the various affiliations we have mapped"
   ]
  },
  {
   "cell_type": "code",
   "execution_count": 35,
   "metadata": {},
   "outputs": [
    {
     "data": {
      "text/plain": [
       "<Figure size 3200x6400 with 0 Axes>"
      ]
     },
     "execution_count": 35,
     "metadata": {},
     "output_type": "execute_result"
    },
    {
     "data": {
      "image/png": "[encoded data removed]",
      "text/plain": [
       "<Figure size 432x288 with 1 Axes>"
      ]
     },
     "metadata": {
      "needs_background": "light"
     },
     "output_type": "display_data"
    },
    {
     "data": {
      "text/plain": [
       "<Figure size 3200x6400 with 0 Axes>"
      ]
     },
     "metadata": {},
     "output_type": "display_data"
    }
   ],
   "source": [
    "\n",
    "import matplotlib.pyplot as plt\n",
    "\n",
    "#establish new column\n",
    "fixedDataframe['AfiliationString']=''\n",
    "\n",
    "#set an appropriate string \n",
    "fixedDataframe['AfiliationString'].loc[fixedDataframe['is_business']]='Business'\n",
    "fixedDataframe['AfiliationString'].loc[fixedDataframe['is_gov']]='Government'\n",
    "fixedDataframe['AfiliationString'].loc[fixedDataframe['household']]='Individual'\n",
    "fixedDataframe['AfiliationString'].loc[fixedDataframe['is_academic']]='Academic'\n",
    "#label unmapped by process of elimination\n",
    "LabeledBoolVec=fixedDataframe[['is_gov','is_academic','household','is_business']].any(axis=1)\n",
    "fixedDataframe['AfiliationString'].loc[np.logical_not(LabeledBoolVec)]='Unmapped'\n",
    "\n",
    "#for some reason we have to go back and relabel academic?\n",
    "fixedDataframe['AfiliationString'].loc[academicNanFix['is_academic']]='Academic'\n",
    "\n",
    "#and plot\n",
    "ax=sns.countplot(x='AfiliationString',data=fixedDataframe)\n",
    "ax.set_yscale(\"log\")\n",
    "plt.figure(figsize=(16,32),dpi=200)                                   "
   ]
  },
  {
   "cell_type": "code",
   "execution_count": 36,
   "metadata": {},
   "outputs": [
    {
     "name": "stdout",
     "output_type": "stream",
     "text": [
      "(array([     10,     163,     198, ..., 2143274, 2143347, 2143377]),)\n"
     ]
    }
   ],
   "source": [
    "print(np.where(academicNanFix['is_academic']))"
   ]
  },
  {
   "cell_type": "code",
   "execution_count": 33,
   "metadata": {},
   "outputs": [
    {
     "data": {
      "text/plain": [
       "Unmapped      1981323\n",
       "Business       114421\n",
       "                39552\n",
       "Individual       4715\n",
       "Government       3573\n",
       "Name: AfiliationString, dtype: int64"
      ]
     },
     "execution_count": 33,
     "metadata": {},
     "output_type": "execute_result"
    }
   ],
   "source": [
    "sectorCounts=fixedDataframe['AfiliationString'].value_counts()\n",
    "sectorCounts.head(6)"
   ]
  },
  {
   "cell_type": "code",
   "execution_count": null,
   "metadata": {},
   "outputs": [],
   "source": []
  }
 ],
 "metadata": {
  "jupytext": {
   "formats": "ipynb,Rmd"
  },
  "kernelspec": {
   "display_name": "Python 3.7",
   "language": "python",
   "name": "python37"
  },
  "language_info": {
   "codemirror_mode": {
    "name": "ipython",
    "version": 3
   },
   "file_extension": ".py",
   "mimetype": "text/x-python",
   "name": "python",
   "nbconvert_exporter": "python",
   "pygments_lexer": "ipython3",
   "version": "3.7.4"
  }
 },
 "nbformat": 4,
 "nbformat_minor": 2
}
